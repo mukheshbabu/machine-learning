{
  "nbformat": 4,
  "nbformat_minor": 0,
  "metadata": {
    "colab": {
      "provenance": [],
      "authorship_tag": "ABX9TyM5EKRgABwyda+cFJ/aiqx8",
      "include_colab_link": true
    },
    "kernelspec": {
      "name": "python3",
      "display_name": "Python 3"
    },
    "language_info": {
      "name": "python"
    }
  },
  "cells": [
    {
      "cell_type": "markdown",
      "metadata": {
        "id": "view-in-github",
        "colab_type": "text"
      },
      "source": [
        "<a href=\"https://colab.research.google.com/github/mukheshbabu/machine-learning/blob/main/linear_regression.ipynb\" target=\"_parent\"><img src=\"https://colab.research.google.com/assets/colab-badge.svg\" alt=\"Open In Colab\"/></a>"
      ]
    },
    {
      "cell_type": "code",
      "source": [
        "# Linear Regression Implementation with scikit-learn\n",
        "\n",
        "# import packages and classes\n",
        "import numpy as np\n",
        "from sklearn.linear_model import LinearRegression\n",
        "\n",
        "# Provide data\n",
        "x = np.array([5, 15, 25, 35, 45, 55]).reshape(-1, 1)\n",
        "y = np.array([5, 20, 14, 32, 22, 28])\n",
        "\n",
        "# Create a model and fit it\n",
        "model = LinearRegression()\n",
        "model.fit(x, y)\n",
        "\n",
        "# Get results\n",
        "r_sq = model.score(x, y)\n",
        "print(f\"coefficient of determination: {r_sq}\")\n",
        "print(f\"intercept: {model.intercept_}\")\n",
        "print(f\"slope: {model.coef_}\")\n",
        "\n",
        "# Predict response\n",
        "y_pred = model.predict(x)   # output is an one dimensional array\n",
        "# y_pred = model.intercept_ + model.coef_ * x   # output is a two dimensional array\n",
        "# y_pred = model.intercept_ + model.coef_ * x.reshape(-1)   # output is an one dimensional array\n",
        "print(f\"predicted response: \\n{y_pred}\")\n",
        "\n",
        "# Applying it to new data\n",
        "x_new = np.arange(5).reshape((-1, 1))\n",
        "x_new\n",
        "y_new = model.predict(x_new)\n",
        "print(f\"predicted response for new regressor: \\n{y_new}\")"
      ],
      "metadata": {
        "colab": {
          "base_uri": "https://localhost:8080/"
        },
        "id": "AFiukGWZ2JDA",
        "outputId": "eb44e85d-f87b-4e6e-b826-741e90a6b22f"
      },
      "execution_count": 4,
      "outputs": [
        {
          "output_type": "stream",
          "name": "stdout",
          "text": [
            "coefficient of determination: 0.5837454051059973\n",
            "intercept: 8.25238095238095\n",
            "slope: [0.39714286]\n",
            "predicted response: \n",
            "[10.23809524 14.20952381 18.18095238 22.15238095 26.12380952 30.0952381 ]\n",
            "predicted response for new regressor: \n",
            "[8.25238095 8.64952381 9.04666667 9.44380952 9.84095238]\n"
          ]
        }
      ]
    },
    {
      "cell_type": "code",
      "source": [
        "## Multiple Linear Regression with scikit-learn\n",
        "\n",
        "# import packages and classes\n",
        "import numpy as np\n",
        "from sklearn.linear_model import LinearRegression\n",
        "\n",
        "# provide data\n",
        "x = [[0, 1], [5, 1], [15, 2], [25, 5], [35, 11], [45, 15], [55, 34], [60, 35]]\n",
        "y = [4, 5, 20, 14, 32, 22, 38, 43]\n",
        "\n",
        "x, y = np.array(x), np.array(y)\n",
        "\n",
        "# Create a model and fit it\n",
        "model = LinearRegression().fit(x, y)\n",
        "\n",
        "# Get results\n",
        "r_sq = model.score(x, y)\n",
        "print(f\"coefficient of determination: {r_sq}\")\n",
        "print(f\"intercept: {model.intercept_}\")\n",
        "print(f\"coefficients: {model.coef_}\")\n",
        "\n",
        "# Predict response\n",
        "# y_pred = model.predict(x)\n",
        "y_pred = model.intercept_ + np.sum(model.coef_ * x, axis = 1)\n",
        "print(f\"predicted response: \\n{y_pred}\")\n",
        "\n",
        "# Applying the model to new data\n",
        "x_new = np.arange(10).reshape((-1, 2))\n",
        "x_new\n",
        "y_new = model.predict(x_new)\n",
        "y_new\n",
        "# print(f\"predicted response for new regressor: \\n{y_new}\")"
      ],
      "metadata": {
        "id": "6sVJISRd9dLB",
        "colab": {
          "base_uri": "https://localhost:8080/"
        },
        "outputId": "65320f32-67c2-4adc-fd08-d5476cc636dd"
      },
      "execution_count": 5,
      "outputs": [
        {
          "output_type": "stream",
          "name": "stdout",
          "text": [
            "coefficient of determination: 0.8615939258756776\n",
            "intercept: 5.52257927519819\n",
            "coefficients: [0.44706965 0.25502548]\n",
            "predicted response: \n",
            "[ 5.77760476  8.012953   12.73867497 17.9744479  23.97529728 29.4660957\n",
            " 38.78227633 41.27265006]\n"
          ]
        },
        {
          "output_type": "execute_result",
          "data": {
            "text/plain": [
              "array([ 5.77760476,  7.18179502,  8.58598528,  9.99017554, 11.3943658 ])"
            ]
          },
          "metadata": {},
          "execution_count": 5
        }
      ]
    },
    {
      "cell_type": "code",
      "source": [
        "# Polynomial Regression with scikit-learn\n",
        "\n",
        "# Step 1: import packages and classes\n",
        "import numpy as np\n",
        "from sklearn.linear_model import LinearRegression\n",
        "from sklearn.preprocessing import PolynomialFeatures\n",
        "import matplotlib.pyplot as plt\n",
        "\n",
        "# Step 2a: provide data\n",
        "x = np.array([5, 15, 25, 35, 45, 55]).reshape((-1, 1))\n",
        "y = np.array([15, 11, 2, 8, 25, 32])\n",
        "\n",
        "# Step 2b: Transform input data\n",
        "transformer = PolynomialFeatures(degree = 2, include_bias = False)\n",
        "transformer.fit(x)\n",
        "# new modifies input array\n",
        "# x_ = transformer.transform(x)\n",
        "x_ = PolynomialFeatures(degree = 2, include_bias = False).fit_transform(x)\n",
        "\n",
        "# Step 3: Create a model and fit it\n",
        "model = LinearRegression().fit(x_, y)\n",
        "\n",
        "# Step 4: Get results\n",
        "r_sq = model.score(x_, y)\n",
        "intercept, coefficients = model.intercept_, model.coef_\n",
        "\n",
        "# Step 5: Predict response\n",
        "y_pred = model.predict(x_)\n",
        "y_pred\n",
        "\n",
        "# Get results\n",
        "r_sq = model.score(x_, y)\n",
        "print(f\"coefficient of determination : {r_sq}\")\n",
        "print(f\"intercept: {model.intercept_}\")\n",
        "print(f\"coefficients: {model.coef_}\")\n",
        "\n",
        "\n",
        "# Different Transformation\n",
        "x_ = PolynomialFeatures(degree = 2, include_bias = True).fit_transform(x)\n",
        "model = LinearRegression(fit_intercept = False).fit(x_, y)\n",
        "# Get results\n",
        "r_sq = model.score(x_, y)\n",
        "print(f\"coefficient of determination : {r_sq}\")\n",
        "print(f\"intercept: {model.intercept_}\")\n",
        "print(f\"coefficients: {model.coef_}\")\n",
        "\n",
        "# Predict response\n",
        "y_pred = model.predict(x_)\n",
        "print(f\"predicted response : \\n{y_pred}\")\n",
        "\n",
        "# Plotting the Graph\n",
        "plt.scatter(x, y, color='blue', label='Actual Data')\n",
        "plt.plot(x, y_pred, color='red', label='Polynomial Regression Curve')\n",
        "plt.xlabel('x')\n",
        "plt.ylabel('y')\n",
        "plt.title('Polynomial Regression')\n",
        "plt.legend()\n",
        "plt.show()"
      ],
      "metadata": {
        "colab": {
          "base_uri": "https://localhost:8080/",
          "height": 617
        },
        "id": "qYWXQR9TSiu2",
        "outputId": "132646f2-1a04-474a-8ca9-daf42a6fb3b4"
      },
      "execution_count": 6,
      "outputs": [
        {
          "output_type": "stream",
          "name": "stdout",
          "text": [
            "coefficient of determination : 0.8908516262498564\n",
            "intercept: 21.37232142857144\n",
            "coefficients: [-1.32357143  0.02839286]\n",
            "coefficient of determination : 0.8908516262498564\n",
            "intercept: 0.0\n",
            "coefficients: [21.37232143 -1.32357143  0.02839286]\n",
            "predicted response : \n",
            "[15.46428571  7.90714286  6.02857143  9.82857143 19.30714286 34.46428571]\n"
          ]
        },
        {
          "output_type": "display_data",
          "data": {
            "text/plain": [
              "<Figure size 640x480 with 1 Axes>"
            ],
            "image/png": "[encoded data removed]"
          },
          "metadata": {}
        }
      ]
    }
  ]
}
